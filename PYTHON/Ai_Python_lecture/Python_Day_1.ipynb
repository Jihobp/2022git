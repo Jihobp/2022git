{
  "nbformat": 4,
  "nbformat_minor": 0,
  "metadata": {
    "colab": {
      "provenance": []
    },
    "kernelspec": {
      "name": "python3",
      "display_name": "Python 3"
    },
    "language_info": {
      "name": "python"
    }
  },
  "cells": [
    {
      "cell_type": "code",
      "execution_count": null,
      "metadata": {
        "colab": {
          "base_uri": "https://localhost:8080/"
        },
        "id": "GvzT47NutwDL",
        "outputId": "9121befd-d2cc-4a40-cbd3-820a50ac5474"
      },
      "outputs": [
        {
          "output_type": "stream",
          "name": "stdout",
          "text": [
            "3 4 123\n",
            "[3, 4, '123']\n",
            "130\n",
            "3\n",
            "4\n",
            "123\n"
          ]
        }
      ],
      "source": [
        "# Python Basic Code#\n",
        "a = 3\n",
        "b = 4\n",
        "c ='123'\n",
        "print(a, b, c)\n",
        "lst = [a, b, c]\n",
        "print(lst)\n",
        "print(a + b + int(c))\n",
        "for x in lst :\n",
        "  print(x)\n"
      ]
    },
    {
      "cell_type": "code",
      "source": [
        "#사칙연산자 활용#\n",
        "a = 10\n",
        "b = 7\n",
        "print(a+b, a-b, a*b, a/b)\n"
      ],
      "metadata": {
        "colab": {
          "base_uri": "https://localhost:8080/"
        },
        "id": "PbtlCbxpk-zn",
        "outputId": "81e3be2b-08c3-42a6-b6d4-a279347fe4f9"
      },
      "execution_count": null,
      "outputs": [
        {
          "output_type": "stream",
          "name": "stdout",
          "text": [
            "17 3 70 1.4285714285714286\n"
          ]
        }
      ]
    },
    {
      "cell_type": "code",
      "source": [
        "a = 3\n",
        "b = 10\n",
        "print(a ** b, a % b, a // b )"
      ],
      "metadata": {
        "colab": {
          "base_uri": "https://localhost:8080/"
        },
        "id": "2MFWi6EVljUH",
        "outputId": "aef601d8-b905-4cc7-e487-993a48cf3e62"
      },
      "execution_count": null,
      "outputs": [
        {
          "output_type": "stream",
          "name": "stdout",
          "text": [
            "59049 3 0\n"
          ]
        }
      ]
    },
    {
      "cell_type": "code",
      "source": [
        "a = 1 % 6\n",
        "b = 2 % 6\n",
        "c = 3 % 6\n",
        "d = 4 % 6\n",
        "e = 5 % 6\n",
        "f = 6 % 6\n",
        "print(a, b, c, d, e, f)"
      ],
      "metadata": {
        "colab": {
          "base_uri": "https://localhost:8080/"
        },
        "id": "Bs1Asx9tnAO4",
        "outputId": "74175d86-73bf-41e7-8c1e-5f5a8e571306"
      },
      "execution_count": null,
      "outputs": [
        {
          "output_type": "stream",
          "name": "stdout",
          "text": [
            "1 2 3 4 5 0\n"
          ]
        }
      ]
    },
    {
      "cell_type": "code",
      "source": [
        "#String Slicing#\n",
        "a = \"Life is too short, You need Python\"\n",
        "print(a[0])\n",
        "print(a[1])\n",
        "print(a[:4])\n",
        "print(a[-1])\n",
        "print(a[-2])\n",
        "print(a[28:])\n",
        "print(a[19:-7])"
      ],
      "metadata": {
        "colab": {
          "base_uri": "https://localhost:8080/"
        },
        "id": "9qXFQQsYldXP",
        "outputId": "c08622c1-a3c2-4781-ee09-0a0173d73f18"
      },
      "execution_count": null,
      "outputs": [
        {
          "output_type": "stream",
          "name": "stdout",
          "text": [
            "L\n",
            "i\n",
            "Life\n",
            "n\n",
            "o\n",
            "Python\n",
            "You need\n"
          ]
        }
      ]
    },
    {
      "cell_type": "code",
      "source": [
        "#String Formatting#\n",
        "print(\"%10s\" % \"hi\")\n",
        "print(\"%-10s\" % \"hi\")\n",
        "print(\"I eat %d apples\" % 3)\n",
        "print(\"I eat %s apples\" % \"five\")\n",
        "\n",
        "number = 10\n",
        "day = \"three\"\n",
        "print(\"I eat %d apples\" % number)\n",
        "print(\"I ate %d apples. so I was sick for %s days.\" % (number, day))\n",
        "\n",
        "print(\"Error rate is %20.3f%%.\" % 93.3)"
      ],
      "metadata": {
        "colab": {
          "base_uri": "https://localhost:8080/"
        },
        "id": "uR9gHTrS5QT9",
        "outputId": "0d8971a4-6d4e-4860-a3c4-5862459df766"
      },
      "execution_count": null,
      "outputs": [
        {
          "output_type": "stream",
          "name": "stdout",
          "text": [
            "        hi\n",
            "hi        \n",
            "I eat 3 apples\n",
            "I eat five apples\n",
            "I eat 10 apples\n",
            "I ate 10 apples. so I was sick for three days.\n",
            "Error rate is               93.300%.\n"
          ]
        }
      ]
    },
    {
      "cell_type": "code",
      "source": [
        "# use funtion Format()#\n",
        "print(\"I ate {number} apples. so I was sick for {day} days.\".format(number=10, day=3))\n",
        "print(\"I ate {0} apples. so I was sick for {day} days.\".format(10, day=3))\n",
        "print(\"{0:<10}\".format(\"hi\"))\n",
        "print(\"{0:>10}\".format(\"hi\"))\n",
        "print(\"{0:=^10}\".format(\"hi\"))\n",
        "\n",
        "value = 3.14163848\n",
        "print(\"{0:0.4f}\".format(value))\n",
        "print(\"{0:10.4f}\".format(value))\n",
        "print(\"{{and}}\".format())"
      ],
      "metadata": {
        "colab": {
          "base_uri": "https://localhost:8080/"
        },
        "id": "3IjZVsI4Bre0",
        "outputId": "65242d5f-ac4e-45a7-f5c2-b620c1ebc033"
      },
      "execution_count": null,
      "outputs": [
        {
          "output_type": "stream",
          "name": "stdout",
          "text": [
            "I ate 10 apples. so I was sick for 3 days.\n",
            "I ate 10 apples. so I was sick for 3 days.\n",
            "hi        \n",
            "        hi\n",
            "====hi====\n",
            "3.1416\n",
            "    3.1416\n",
            "{and}\n",
            "나의 이름은 김아무개입니다. 나이는 40입니다.\n",
            "나의 이름은 김아무개입니다. 내년 나이는 41입니다.\n"
          ]
        }
      ]
    },
    {
      "cell_type": "code",
      "source": [
        "# f' Method by String Format(more than Python-3.6) #\n",
        "name = '김아무개'\n",
        "age = 40\n",
        "\n",
        "print(f'나의 이름은 {name}입니다. 나이는 {age}입니다.')\n",
        "print(f'나의 이름은 {name}입니다. 내년 나이는 {age+1}입니다.')\n",
        "print(f'{\"hi\":<10}')\n",
        "print(f'{\"hi\":>10}')\n",
        "print(f'{\"hi\":=^10}')\n",
        "\n",
        "value = 3.14163848\n",
        "print(f'{value:0.4f}')\n",
        "print(f'{value:10.4f}')\n"
      ],
      "metadata": {
        "colab": {
          "base_uri": "https://localhost:8080/"
        },
        "id": "mfjct97aR-XE",
        "outputId": "942a161d-fc4d-4926-9808-9d96e07385f1"
      },
      "execution_count": null,
      "outputs": [
        {
          "output_type": "stream",
          "name": "stdout",
          "text": [
            "나의 이름은 김아무개입니다. 나이는 40입니다.\n",
            "나의 이름은 김아무개입니다. 내년 나이는 41입니다.\n",
            "hi        \n",
            "        hi\n",
            "====hi====\n",
            "3.1416\n",
            "    3.1416\n"
          ]
        }
      ]
    },
    {
      "cell_type": "code",
      "source": [
        "# String related Funtions #\n",
        "\n",
        "string = \"Hello\"\n",
        "print(string.count('l'))\n",
        "print(string.find('H'))\n",
        "print(string.find('i'))\n",
        "print(string.index('o'))\n",
        "print(\",\".join(string))\n",
        "print(\",\".join('Hello'))\n",
        "print(\",\".join(['a','b','c','d']))\n",
        "Str = \"안녕하세요. 카드값이 궁금해요\"\n",
        "print(Str.split())\n",
        "print(Str.replace(\",\", \" \"))"
      ],
      "metadata": {
        "colab": {
          "base_uri": "https://localhost:8080/"
        },
        "id": "NK4BsCDSU7F7",
        "outputId": "cea02a59-b944-4b18-99f0-c15afc18799d"
      },
      "execution_count": null,
      "outputs": [
        {
          "output_type": "stream",
          "name": "stdout",
          "text": [
            "2\n",
            "0\n",
            "-1\n",
            "4\n",
            "H,e,l,l,o\n",
            "H,e,l,l,o\n",
            "a,b,c,d\n",
            "['안녕하세요.', '카드값이', '궁금해요']\n",
            "안녕하세요. 카드값이 궁금해요\n"
          ]
        }
      ]
    },
    {
      "cell_type": "code",
      "source": [
        "def Input_Data() :\n",
        "  lst =[]\n",
        "  for i in range(0,5) :\n",
        "    text = input(\"단어를 입력해주세요 : \")\n",
        "    lst.insert(0,text)\n",
        "    print(lst)\n",
        "  return lst\n",
        "\n",
        "res=Input_Data()\n",
        "print(res)  "
      ],
      "metadata": {
        "colab": {
          "base_uri": "https://localhost:8080/"
        },
        "id": "gCioTFcqAkPW",
        "outputId": "2a852706-b787-44b0-d888-b1d898027156"
      },
      "execution_count": null,
      "outputs": [
        {
          "output_type": "stream",
          "name": "stdout",
          "text": [
            "단어를 입력해주세요 : a\n",
            "['a']\n",
            "단어를 입력해주세요 : b\n",
            "['b', 'a']\n",
            "단어를 입력해주세요 : c\n",
            "['c', 'b', 'a']\n",
            "단어를 입력해주세요 : d\n",
            "['d', 'c', 'b', 'a']\n",
            "단어를 입력해주세요 : e\n",
            "['e', 'd', 'c', 'b', 'a']\n",
            "['e', 'd', 'c', 'b', 'a']\n"
          ]
        }
      ]
    },
    {
      "cell_type": "code",
      "source": [
        "myStr = \"나는 평소에 행복하고 즐겁게 인생을 살아가고 있습니다. 뿐만 아니라 주변의 사람에게 행복을 전달하는 행복전도사입니다.\"\n",
        "\n",
        "res = myStr.split(\".\")\n",
        "res1 = myStr.split(sep=\" \")\n",
        "\n",
        "print(res)\n",
        "print(res1)\n",
        "\n",
        "\n",
        "if myStr.count(\"행복\") > 0 :\n",
        "    print(\"입력하신 단어는 총 \" + str(myStr.count(\"행복\")) + \"회 입니다.\") # 형변환 예시\n",
        "else:\n",
        "    print(\"입력하신 단어를 찾을 수없습니다.\")\n",
        "\n"
      ],
      "metadata": {
        "colab": {
          "base_uri": "https://localhost:8080/"
        },
        "id": "YWIWLZZnzPaM",
        "outputId": "d727ef66-28b2-47c1-b9a2-a3e2fd3b3f86"
      },
      "execution_count": null,
      "outputs": [
        {
          "output_type": "stream",
          "name": "stdout",
          "text": [
            "['나는 평소에 행복하고 즐겁게 인생을 살아가고 있습니다', ' 뿐만 아니라 주변의 사람에게 행복을 전달하는 행복전도사입니다', '']\n",
            "['나는', '평소에', '행복하고', '즐겁게', '인생을', '살아가고', '있습니다.', '뿐만', '아니라', '주변의', '사람에게', '행복을', '전달하는', '행복전도사입니다.']\n",
            "입력하신 단어는 총 3회 입니다.\n"
          ]
        }
      ]
    },
    {
      "cell_type": "code",
      "source": [
        "dict ={\"우울\" :\"sad\", \"word_sad\": \"0\", \"행복\":\"happy\",\"word_ha\":\"0\" }\n",
        "count = 0\n",
        "no_sad = 0\n",
        "\n",
        "for x in range(3):\n",
        "  text = input(\"How feel you today : \")\n",
        "  if text == dict.get(\"sad\"):\n",
        "    count += 1\n",
        "    dict[\"word_sad\"] = count \n",
        "  else:\n",
        "    no_sad +=1\n",
        "    dict[\"word_ha\"] = no_sad\n",
        "\n",
        "print(\"feeling sad_count : \" + str(dict.get(\"word_sad\"))) \n",
        "print(\"feeling non_sad_count : \" + str(dict.get(\"word_ha\")))\n",
        "\n",
        "print(dict.keys())\n",
        "print(dict.values())\n",
        "print(dict.items())\n",
        "print(dict.get(\"word_sad\"))\n"
      ],
      "metadata": {
        "colab": {
          "base_uri": "https://localhost:8080/"
        },
        "id": "nEFaKJuWy-Wi",
        "outputId": "6c8f42b6-2cc2-4a1a-960f-d94728b5193f"
      },
      "execution_count": null,
      "outputs": [
        {
          "output_type": "stream",
          "name": "stdout",
          "text": [
            "How feel you today : 우울\n",
            "How feel you today : 행복\n",
            "How feel you today : 우울\n",
            "feeling sad_count : 2\n",
            "feeling non_sad_count : 1\n",
            "dict_keys(['sad', 'word_sad', '행복', 'word_ha'])\n",
            "dict_values(['우울', 2, 'happy', 1])\n",
            "dict_items([('sad', '우울'), ('word_sad', 2), ('행복', 'happy'), ('word_ha', 1)])\n",
            "2\n"
          ]
        }
      ]
    },
    {
      "cell_type": "code",
      "source": [
        "def feel_count (text):\n",
        "  sad = [\"우울\", \"슬픔\", \"눈물\"]\n",
        "  count = 0\n",
        "\n",
        "  for x in sad :\n",
        "    if text == x :\n",
        "      count += 1\n",
        "  \n",
        "  return count\n",
        "\n",
        "res = 0\n",
        "for i in range(3) :\n",
        "  feel = input(\"오늘의 기분을 입력하세요 : \")\n",
        "  res += feel_count(feel)\n",
        "\n",
        "print(\"우울한 기분을 입력하신 값은 \" + str(res) + \"회입니다.\")\n"
      ],
      "metadata": {
        "colab": {
          "base_uri": "https://localhost:8080/"
        },
        "id": "CqAVrOCq6MIv",
        "outputId": "c7f9cf88-459e-4106-f74c-c2d0ee258800"
      },
      "execution_count": null,
      "outputs": [
        {
          "output_type": "stream",
          "name": "stdout",
          "text": [
            "오늘의 기분을 입력하세요 : 우울\n",
            "오늘의 기분을 입력하세요 : 우울\n",
            "오늘의 기분을 입력하세요 : 행복\n",
            "우울한 기분을 입력하신 값은 2회입니다.\n"
          ]
        }
      ]
    }
  ]
}